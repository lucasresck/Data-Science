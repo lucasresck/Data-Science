{
 "cells": [
  {
   "cell_type": "markdown",
   "metadata": {},
   "source": [
    "# K-means\n",
    "\n",
    "K-means is a clustering algorithm. Given a set of points, it divides them in cluster is a smart way. Let's see:"
   ]
  },
  {
   "cell_type": "code",
   "execution_count": 298,
   "metadata": {},
   "outputs": [],
   "source": [
    "import numpy as np\n",
    "import matplotlib.pyplot as plt\n",
    "from sklearn.datasets.samples_generator import make_blobs\n",
    "from sklearn.cluster import KMeans"
   ]
  },
  {
   "cell_type": "markdown",
   "metadata": {},
   "source": [
    "This is our data:"
   ]
  },
  {
   "cell_type": "code",
   "execution_count": 299,
   "metadata": {},
   "outputs": [
    {
     "data": {
      "image/png": "[encoded data removed]",
      "text/plain": [
       "<Figure size 432x288 with 1 Axes>"
      ]
     },
     "metadata": {
      "needs_background": "light"
     },
     "output_type": "display_data"
    }
   ],
   "source": [
    "# Trick to generate clustered data (although without labels)\n",
    "points, _ = make_blobs(centers=5, cluster_std=0.5)\n",
    "\n",
    "# Plot, please\n",
    "plt.scatter(points[:, 0], points[:, 1])\n",
    "plt.show()"
   ]
  },
  {
   "cell_type": "markdown",
   "metadata": {},
   "source": [
    "Let's use k-means:"
   ]
  },
  {
   "cell_type": "code",
   "execution_count": 300,
   "metadata": {},
   "outputs": [
    {
     "data": {
      "image/png": "[encoded data removed]",
      "text/plain": [
       "<Figure size 432x288 with 1 Axes>"
      ]
     },
     "metadata": {
      "needs_background": "light"
     },
     "output_type": "display_data"
    }
   ],
   "source": [
    "kmeans = KMeans(n_clusters=5)\n",
    "\n",
    "# It fits and predicts the labels for the points\n",
    "labels = kmeans.fit_predict(points)\n",
    "\n",
    "# Give me the centroids\n",
    "centroids = kmeans.cluster_centers_\n",
    "\n",
    "# Trick to color the clusters\n",
    "colormap = {0: 'red', 1: 'green', 2: 'blue', 3: 'yellow', 4: 'orange'}\n",
    "colors = list(map(lambda x: colormap[x], labels))\n",
    "\n",
    "# Plot for me, please\n",
    "plt.scatter(points[:, 0], points[:, 1], color=colors)\n",
    "plt.scatter(centroids[:, 0], centroids[:, 1], color='purple')\n",
    "plt.title('Clusters')\n",
    "plt.show()"
   ]
  },
  {
   "cell_type": "markdown",
   "metadata": {},
   "source": [
    "But what does this algorithm do? Well, it separates the points in 5 sets, with the condition that the sum of the mean squared errors of the points related to their centroids is mininum.\n",
    "\n",
    "It does that this way:\n",
    "\n",
    "```\n",
    "randomly choose 5 centroids\n",
    "while not converge\n",
    "    cluster the points in relation to the centroid they are nearest to\n",
    "    calculate each cluster centroid```\n",
    "    \n",
    "Let's implement it!"
   ]
  },
  {
   "cell_type": "code",
   "execution_count": 301,
   "metadata": {},
   "outputs": [],
   "source": [
    "def distance(a, b):\n",
    "    '''\n",
    "    Euclidean distance between two points a and b.\n",
    "    '''\n",
    "    \n",
    "    return np.sqrt((a[0] - b[0])**2 + (a[1] - b[1])**2)\n",
    "    \n",
    "def random_centroids(data, k):\n",
    "    '''\n",
    "    Calculate random centroids. It chooses k random points.\n",
    "    '''\n",
    "    \n",
    "    indices = np.arange(np.shape(data)[0])\n",
    "    np.random.shuffle(indices)\n",
    "    indices = indices[0:k]\n",
    "    return points[indices]\n",
    "\n",
    "def calculate_centroids(data, labels, k):\n",
    "    '''\n",
    "    Calculate the new centroids based on the labels.\n",
    "    It's basically the mean of the points in the same label.\n",
    "    '''\n",
    "    \n",
    "    centroids = np.zeros((k, 2))\n",
    "    for i, point in enumerate(data):\n",
    "        centroids[int(labels[i])][0] += point[0]\n",
    "        centroids[int(labels[i])][1] += point[1]\n",
    "    for j, centroid in enumerate(centroids):\n",
    "        if len(labels[labels==j]) != 0:\n",
    "            centroids[j][0] /= len(labels[labels==j])\n",
    "            centroids[j][1] /= len(labels[labels==j])\n",
    "    return centroids        \n",
    "\n",
    "def cluster_it(data, centroids):\n",
    "    '''\n",
    "    Each point is labeled acording to the nearest centroid.\n",
    "    '''\n",
    "    \n",
    "    distances = np.zeros((np.shape(data)[0], np.shape(centroids)[0]))\n",
    "    labels = np.zeros(np.shape(data)[0])\n",
    "    for i, point in enumerate(data):\n",
    "        for j, centroid in enumerate(centroids):\n",
    "            distances[i][j] = distance(point, centroid)  # Distance between points and centroids (all of them)\n",
    "        labels[i] = np.argmin(distances[i])  # The point is labeled according to the nearest centroid\n",
    "    return labels\n",
    "\n",
    "def plot(labels, points):\n",
    "    '''\n",
    "    Plot of the results.\n",
    "    '''\n",
    "    \n",
    "    colormap = {0: 'red', 1: 'green', 2: 'blue', 3: 'yellow', 4: 'orange'}\n",
    "    colors = list(map(lambda x: colormap[x % 5], labels))\n",
    "    plt.scatter(points[:, 0], points[:, 1], color=colors)\n",
    "    plt.title('Clusters')\n",
    "    plt.show()\n",
    "    \n",
    "def its_close(old, new, eps):\n",
    "    '''\n",
    "    Check convergence.\n",
    "    '''\n",
    "    \n",
    "    diff = np.sum(np.fabs(old[:, 0] - new[:, 0])) + np.sum(np.fabs(old[:, 1] - new[:, 1]))\n",
    "    if diff < eps:\n",
    "        return 1\n",
    "    return 0\n",
    "    \n",
    "    \n",
    "def k_means(data, k, eps=1e-10, max_iterations=10000):\n",
    "    '''\n",
    "    Implement basic k-means clustering algorithm.\n",
    "    '''\n",
    "    \n",
    "    centroids = random_centroids(data, k)  # Random centroids    \n",
    "    labels = np.zeros(np.shape(data)[0])    \n",
    "    for i in range(max_iterations):  # The iteration        \n",
    "        labels = cluster_it(data, centroids)  # Calculate the labels based on the centroids        \n",
    "        old_centroids = np.copy(centroids)  # Save a copy for checking convergence\n",
    "        centroids = calculate_centroids(data, labels, k)  # Calculate new centroids\n",
    "        if its_close(old_centroids, centroids, eps):  # Checking convergence \n",
    "            print('Clustering ended with {} iterations.'.format(i))\n",
    "            break\n",
    "    plot(labels, data)\n",
    "    return labels, centroids"
   ]
  },
  {
   "cell_type": "code",
   "execution_count": 302,
   "metadata": {},
   "outputs": [
    {
     "name": "stdout",
     "output_type": "stream",
     "text": [
      "Clustering ended with 6 iterations.\n"
     ]
    },
    {
     "data": {
      "image/png": "[encoded data removed]",
      "text/plain": [
       "<Figure size 432x288 with 1 Axes>"
      ]
     },
     "metadata": {
      "needs_background": "light"
     },
     "output_type": "display_data"
    }
   ],
   "source": [
    "_, _ = k_means(points, 5)"
   ]
  }
 ],
 "metadata": {
  "kernelspec": {
   "display_name": "Python 3",
   "language": "python",
   "name": "python3"
  },
  "language_info": {
   "codemirror_mode": {
    "name": "ipython",
    "version": 3
   },
   "file_extension": ".py",
   "mimetype": "text/x-python",
   "name": "python",
   "nbconvert_exporter": "python",
   "pygments_lexer": "ipython3",
   "version": "3.7.5"
  }
 },
 "nbformat": 4,
 "nbformat_minor": 2
}
